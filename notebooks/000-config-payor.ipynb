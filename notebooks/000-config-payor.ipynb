{
 "cells": [
  {
   "cell_type": "markdown",
   "id": "233c0045",
   "metadata": {},
   "source": [
    "\n"
   ]
  },
  {
   "cell_type": "code",
   "execution_count": null,
   "id": "d9b84c97",
   "metadata": {},
   "outputs": [],
   "source": [
    "\n"
   ]
  },
  {
   "cell_type": "markdown",
   "id": "b1e63b56",
   "metadata": {},
   "source": [
    "\n"
   ]
  },
  {
   "cell_type": "code",
   "execution_count": null,
   "id": "70056f8d",
   "metadata": {},
   "outputs": [],
   "source": [
    "\n"
   ]
  },
  {
   "cell_type": "markdown",
   "id": "97e4f395",
   "metadata": {},
   "source": [
    "\n"
   ]
  },
  {
   "cell_type": "code",
   "execution_count": null,
   "id": "243fd1be",
   "metadata": {},
   "outputs": [],
   "source": [
    "\n"
   ]
  },
  {
   "cell_type": "markdown",
   "id": "4f8d3267",
   "metadata": {},
   "source": [
    "\n"
   ]
  },
  {
   "cell_type": "code",
   "execution_count": null,
   "id": "16610dc3",
   "metadata": {},
   "outputs": [],
   "source": [
    "\n"
   ]
  },
  {
   "cell_type": "markdown",
   "id": "1296df88",
   "metadata": {},
   "source": [
    "\n"
   ]
  },
  {
   "cell_type": "code",
   "execution_count": null,
   "id": "e19c3911",
   "metadata": {},
   "outputs": [],
   "source": [
    "\n"
   ]
  },
  {
   "cell_type": "markdown",
   "id": "427fc866",
   "metadata": {},
   "source": [
    "# Healthcare Payor Configuration Parameters\n",
    "Please change as required.\n"
   ]
  },
  {
   "cell_type": "code",
   "execution_count": null,
   "id": "a1fd4160",
   "metadata": {},
   "outputs": [],
   "source": [
    "# DBTITLE 1,Initialize Config Dictionary If Not Present\n",
    "if 'config' not in locals():\n",
    "  config = {}\n"
   ]
  },
  {
   "cell_type": "markdown",
   "id": "1327de65",
   "metadata": {},
   "source": [
    "### Data Catalog configs\n"
   ]
  },
  {
   "cell_type": "code",
   "execution_count": null,
   "id": "6a1dd70e",
   "metadata": {},
   "outputs": [],
   "source": [
    "# DBTITLE 1,Catalog and Database\n",
    "config['catalog'] = 'healthcare_payor_catalog'\n",
    "config['database'] = 'healthcare_payor_db'\n"
   ]
  },
  {
   "cell_type": "markdown",
   "id": "35b5d96f",
   "metadata": {},
   "source": [
    "### Agent Configs\n"
   ]
  },
  {
   "cell_type": "code",
   "execution_count": null,
   "id": "f394a2f1",
   "metadata": {},
   "outputs": [],
   "source": [
    "# DBTITLE 1,Agent Configuration\n",
    "config['agent_name'] = 'ai_payor_agent'\n",
    "config['VECTOR_SEARCH_ENDPOINT_NAME'] = 'vector-search-healthcare-payor'\n",
    "config['vector_search_index'] = 'payor_faq_indx1'\n",
    "config['embedding_model_endpoint_name'] = 'databricks-gte-large-en'\n",
    "config['llm_endpoint']=\"databricks-claude-3-5-sonnet\"\n",
    "config['warehouse_id']=\"<YOUR_WAREHOUSE_ID>\" # Placeholder\n"
   ]
  },
  {
   "cell_type": "markdown",
   "id": "3a100e62",
   "metadata": {},
   "source": [
    "### Tools (adapted for healthcare payor)\n"
   ]
  },
  {
   "cell_type": "code",
   "execution_count": null,
   "id": "3a12a453",
   "metadata": {},
   "outputs": [],
   "source": [
    "# DBTITLE 1,Unity Catalog Tools\n",
    "config['tools_healthcare_faq'] = config['catalog']+'.'+config['database']+'.healthcare_faq'\n",
    "config['tools_member'] = config['catalog']+'.'+config['database']+'.lookup_member'\n",
    "config['tools_claims'] = config['catalog']+'.'+config['database']+'.lookup_claims'\n",
    "config['tools_providers'] = config['catalog']+'.'+config['database']+'.lookup_providers'\n",
    "config['tools_benefits'] = config['catalog']+'.'+config['database']+'.verify_benefits'\n",
    "config['tools_authorization'] = config['catalog']+'.'+config['database']+'.check_authorization'\n"
   ]
  },
  {
   "cell_type": "markdown",
   "id": "fa142079",
   "metadata": {},
   "source": [
    "### Display Configuration\n"
   ]
  },
  {
   "cell_type": "code",
   "execution_count": null,
   "id": "2ad28373",
   "metadata": {},
   "outputs": [],
   "source": [
    "# DBTITLE 1,Display Configuration\n",
    "import json\n",
    "print(\"Healthcare Payor Configuration:\")\n",
    "print(json.dumps(config, indent=2))\n"
   ]
  },
  {
   "cell_type": "code",
   "execution_count": null,
   "id": "780ff186",
   "metadata": {},
   "outputs": [],
   "source": [
    "# Databricks notebook source\n",
    "# MAGIC %md\n",
    "# MAGIC # Healthcare Payor Configuration Parameters\n",
    "# MAGIC Please change as required.\n",
    "\n",
    "# COMMAND ----------\n",
    "\n",
    "# DBTITLE 1,Initialize Config Dictionary If Not Present\n",
    "if 'config' not in locals():\n",
    "  config = {}\n",
    "\n",
    "# COMMAND ----------\n",
    "\n",
    "# MAGIC %md \n",
    "# MAGIC ### Data Catalog configs\n",
    "\n",
    "# COMMAND ----------\n",
    "\n",
    "# DBTITLE 1,Set Catalog and Database in Config Dictionary\n",
    "# Catalog and database\n",
    "# Change the Catalog and database name as per your requirements\n",
    "\n",
    "config['catalog'] = 'quickstart_catalog_vkm_external'\n",
    "config['database'] = 'healthcare_payor_db'\n",
    "\n",
    "# COMMAND ----------\n",
    "\n",
    "# MAGIC %md \n",
    "# MAGIC ### Key configurations for the data generation \n",
    "\n",
    "# COMMAND ----------\n",
    "\n",
    "# DBTITLE 1,Set Data Generation Configuration Parameters\n",
    "# Data Generation Configs\n",
    "\n",
    "config['UNIQUE_MEMBERS'] = 10000\n",
    "config['MEMBER_MIN_VALUE'] = 1000\n",
    "config['CLAIM_MIN_VALUE'] = 1000000000\n",
    "config['PROVIDER_MIN_VALUE'] = 1000000000\n",
    "config['UNIQUE_PLANS'] = 5 # Number of unique plan types (Premium, Basic, Standard, etc.)\n",
    "config['PLAN_MIN_VALUE'] = 1\n",
    "\n",
    "config['AVG_CLAIMS_PER_MEMBER'] = 8\n",
    "config['AVG_PROVIDERS_PER_SPECIALTY'] = 20\n",
    "\n",
    "config['shuffle_partitions_requested'] = 8\n",
    "config['partitions_requested'] = 8\n",
    "config['NUM_DAYS']=365 # number of days to generate data for\n",
    "config['MAX_CLAIM_AMOUNT'] = 50000 # Max claim amount\n",
    "config['MIN_CLAIM_AMOUNT'] = 100 # Min claim amount\n",
    "config['start_dt']=\"2024-01-01 00:00:00\" \n",
    "config['end_dt']=\"2024-12-31 11:59:59\"\n",
    "\n",
    "# COMMAND ----------\n",
    "\n",
    "# MAGIC %md\n",
    "# MAGIC ### Agent configuration parameters\n",
    "\n",
    "# COMMAND ----------\n",
    "\n",
    "# DBTITLE 1,Set Agent Configuration Parameters in Config Dictionary\n",
    "# Agent Configs\n",
    "config['agent_name'] = 'ai_healthcare_payor_agent'\n",
    "config['VECTOR_SEARCH_ENDPOINT_NAME'] = 'vector-search-healthcare-payor'\n",
    "config['vector_search_index'] = 'healthcare_faq_index'\n",
    "config['embedding_model_endpoint_name'] = 'databricks-gte-large-en'  # This is default embedding model and needs to be updated for your environment\n",
    "config['llm_endpoint']=\"databricks-claude-3-7-sonnet\" # This is default token based pricing endpoint and needs to be updated based on your requirement\n",
    "config['warehouse_id']=\"148ccb90800933a1\" # This is the warehouse id and need to be updated for your environment\n",
    "\n",
    "# Tools \n",
    "config['tools_healthcare_faq'] = config['catalog']+'.'+config['database']+'.healthcare_faq'\n",
    "config['tools_member'] = config['catalog']+'.'+config['database']+'.lookup_member'\n",
    "config['tools_claims'] = config['catalog']+'.'+config['database']+'.lookup_claims'\n",
    "config['tools_providers'] = config['catalog']+'.'+config['database']+'.lookup_providers'\n",
    "config['tools_benefits'] = config['catalog']+'.'+config['database']+'.verify_benefits'\n",
    "config['tools_authorization'] = config['catalog']+'.'+config['database']+'.check_authorization'\n"
   ]
  }
 ],
 "metadata": {
  "language_info": {
   "name": "python"
  }
 },
 "nbformat": 4,
 "nbformat_minor": 5
}
