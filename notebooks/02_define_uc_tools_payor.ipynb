{
  "cells": [
    {
      "cell_type": "markdown",
      "metadata": {},
      "source": [
        "# Healthcare Payor Unity Catalog Tools\n",
        "This notebook defines Unity Catalog functions as tools for the healthcare payor AI agent using existing tables in my_catalog.payer_silver.\n"
      ]
    },
    {
      "cell_type": "code",
      "execution_count": 1,
      "metadata": {},
      "outputs": [
        {
          "name": "stdout",
          "output_type": "stream",
          "text": [
            "Working with catalog: my_catalog\n",
            "Working with schema: payer_silver\n",
            "Creating UC functions in: my_catalog.payer_silver\n"
          ]
        }
      ],
      "source": [
        "# Set Catalog and Schema Parameters\n",
        "CATALOG = \"my_catalog\"\n",
        "SCHEMA = \"payer_silver\"\n",
        "\n",
        "print(f\"Working with catalog: {CATALOG}\")\n",
        "print(f\"Working with schema: {SCHEMA}\")\n",
        "print(f\"Creating UC functions in: {CATALOG}.{SCHEMA}\")\n"
      ]
    },
    {
      "cell_type": "markdown",
      "metadata": {},
      "source": [
        "### Create Member Lookup Function\n"
      ]
    },
    {
      "cell_type": "code",
      "execution_count": 2,
      "metadata": {},
      "outputs": [
        {
          "name": "stdout",
          "output_type": "stream",
          "text": [
            "✅ lookup_member function created successfully\n"
          ]
        }
      ],
      "source": [
        "# Create Member Lookup Function\n",
        "spark.sql(f\"DROP FUNCTION IF EXISTS {CATALOG}.{SCHEMA}.lookup_member\")\n",
        "\n",
        "sqlstr_lkp_member = f\"\"\"\n",
        "CREATE OR REPLACE FUNCTION {CATALOG}.{SCHEMA}.lookup_member(\n",
        "  input_id STRING COMMENT 'Input member id'\n",
        ")\n",
        "RETURNS TABLE (\n",
        "    member_id STRING,\n",
        "    first_name STRING,\n",
        "    last_name STRING,\n",
        "    birth_date DATE,\n",
        "    gender STRING,\n",
        "    plan_id STRING,\n",
        "    effective_date DATE\n",
        ")\n",
        "COMMENT 'Returns member information from payer_silver.members'\n",
        "RETURN (\n",
        "  SELECT \n",
        "    member_id,\n",
        "    first_name,\n",
        "    last_name,\n",
        "    birth_date,\n",
        "    gender,\n",
        "    plan_id,\n",
        "    effective_date\n",
        "  FROM {CATALOG}.{SCHEMA}.members\n",
        "  WHERE member_id = input_id\n",
        ");\n",
        "\"\"\"\n",
        "\n",
        "spark.sql(sqlstr_lkp_member)\n",
        "print(\"✅ lookup_member function created successfully\")\n"
      ]
    },
    {
      "cell_type": "markdown",
      "metadata": {},
      "source": [
        "### Create Claims Lookup Function\n"
      ]
    },
    {
      "cell_type": "code",
      "execution_count": 4,
      "metadata": {},
      "outputs": [
        {
          "name": "stdout",
          "output_type": "stream",
          "text": [
            "✅ lookup_claims function created successfully\n"
          ]
        }
      ],
      "source": [
        "# Create Claims Lookup Function\n",
        "spark.sql(f\"DROP FUNCTION IF EXISTS {CATALOG}.{SCHEMA}.lookup_claims\")\n",
        "\n",
        "sqlstr_lkp_claims = f\"\"\"\n",
        "CREATE OR REPLACE FUNCTION {CATALOG}.{SCHEMA}.lookup_claims(\n",
        "  input_id STRING COMMENT 'Input member id'\n",
        ")\n",
        "RETURNS TABLE (\n",
        "    claim_id STRING,\n",
        "    member_id STRING,\n",
        "    provider_id STRING,\n",
        "    claim_date DATE,\n",
        "    total_charge DOUBLE,\n",
        "    claim_status STRING\n",
        ")\n",
        "COMMENT 'Returns claims for a member from payer_silver.claims'\n",
        "RETURN (\n",
        "  SELECT \n",
        "    claim_id,\n",
        "    member_id,\n",
        "    provider_id,\n",
        "    claim_date,\n",
        "    total_charge,\n",
        "    claim_status\n",
        "  FROM {CATALOG}.{SCHEMA}.claims\n",
        "  WHERE member_id = input_id\n",
        "  ORDER BY claim_date DESC\n",
        ");\n",
        "\"\"\"\n",
        "\n",
        "spark.sql(sqlstr_lkp_claims)\n",
        "print(\"✅ lookup_claims function created successfully\")\n"
      ]
    },
    {
      "cell_type": "markdown",
      "metadata": {},
      "source": [
        "### Create Provider Lookup Function\n"
      ]
    },
    {
      "cell_type": "code",
      "execution_count": 5,
      "metadata": {},
      "outputs": [
        {
          "name": "stdout",
          "output_type": "stream",
          "text": [
            "✅ lookup_providers function created successfully\n"
          ]
        }
      ],
      "source": [
        "# Create Provider Lookup Function\n",
        "spark.sql(f\"DROP FUNCTION IF EXISTS {CATALOG}.{SCHEMA}.lookup_providers\")\n",
        "\n",
        "sqlstr_lkp_providers = f\"\"\"\n",
        "CREATE OR REPLACE FUNCTION {CATALOG}.{SCHEMA}.lookup_providers(\n",
        "  specialty_filter STRING COMMENT 'Specialty to filter providers'\n",
        ")\n",
        "RETURNS TABLE (\n",
        "    provider_id STRING,\n",
        "    provider_name STRING,\n",
        "    specialty STRING,\n",
        "    city STRING,\n",
        "    state STRING\n",
        ")\n",
        "COMMENT 'Returns providers by specialty from payer_silver.providers'\n",
        "RETURN (\n",
        "  SELECT \n",
        "    provider_id,\n",
        "    provider_name,\n",
        "    specialty,\n",
        "    city,\n",
        "    state\n",
        "  FROM {CATALOG}.{SCHEMA}.providers\n",
        "  WHERE LOWER(specialty) LIKE LOWER(CONCAT('%', specialty_filter, '%'))\n",
        "  ORDER BY provider_name\n",
        ");\n",
        "\"\"\"\n",
        "\n",
        "spark.sql(sqlstr_lkp_providers)\n",
        "print(\"✅ lookup_providers function created successfully\")\n"
      ]
    },
    {
      "cell_type": "markdown",
      "metadata": {},
      "source": [
        "### Test All Functions\n"
      ]
    },
    {
      "cell_type": "code",
      "execution_count": 11,
      "metadata": {},
      "outputs": [
        {
          "name": "stdout",
          "output_type": "stream",
          "text": [
            "🧪 Testing lookup_member function...\n"
          ]
        },
        {
          "data": {
            "application/vnd.jupyter.widget-view+json": {
              "model_id": "c2e3769f502f4bfabd9e91ac53ca61d9",
              "version_major": 2,
              "version_minor": 0
            },
            "text/plain": [
              "HBox(children=(IntProgress(value=0, bar_style='success'), Label(value='')))"
            ]
          },
          "metadata": {},
          "output_type": "display_data"
        },
        {
          "name": "stdout",
          "output_type": "stream",
          "text": [
            "+---------+----------+---------+----------+------+-------+--------------+\n",
            "|member_id|first_name|last_name|birth_date|gender|plan_id|effective_date|\n",
            "+---------+----------+---------+----------+------+-------+--------------+\n",
            "|1001     |John      |Doe      |1980-03-21|M     |PLN101 |2020-01-01    |\n",
            "+---------+----------+---------+----------+------+-------+--------------+\n",
            "\n"
          ]
        }
      ],
      "source": [
        "# Test Member Lookup Function\n",
        "print(\"🧪 Testing lookup_member function...\")\n",
        "test_result = spark.sql(f\"SELECT * FROM {CATALOG}.{SCHEMA}.lookup_member('1001') LIMIT 1\")\n",
        "test_result.show(truncate=False)\n"
      ]
    },
    {
      "cell_type": "code",
      "execution_count": 12,
      "metadata": {},
      "outputs": [
        {
          "name": "stdout",
          "output_type": "stream",
          "text": [
            "🧪 Testing lookup_claims function...\n"
          ]
        },
        {
          "data": {
            "application/vnd.jupyter.widget-view+json": {
              "model_id": "91745771685b4479949cee2bbbf6edd2",
              "version_major": 2,
              "version_minor": 0
            },
            "text/plain": [
              "HBox(children=(IntProgress(value=0, bar_style='success'), Label(value='')))"
            ]
          },
          "metadata": {},
          "output_type": "display_data"
        },
        {
          "name": "stdout",
          "output_type": "stream",
          "text": [
            "+--------+---------+-----------+----------+------------+------------+\n",
            "|claim_id|member_id|provider_id|claim_date|total_charge|claim_status|\n",
            "+--------+---------+-----------+----------+------------+------------+\n",
            "|CLM001  |1001     |2001       |2023-01-10|120.0       |paid        |\n",
            "+--------+---------+-----------+----------+------------+------------+\n",
            "\n"
          ]
        }
      ],
      "source": [
        "# Test Claims Lookup Function\n",
        "print(\"🧪 Testing lookup_claims function...\")\n",
        "test_result = spark.sql(f\"SELECT * FROM {CATALOG}.{SCHEMA}.lookup_claims('1001') LIMIT 3\")\n",
        "test_result.show(truncate=False)\n"
      ]
    },
    {
      "cell_type": "code",
      "execution_count": 13,
      "metadata": {},
      "outputs": [
        {
          "name": "stdout",
          "output_type": "stream",
          "text": [
            "🧪 Testing lookup_providers function...\n"
          ]
        },
        {
          "data": {
            "application/vnd.jupyter.widget-view+json": {
              "model_id": "4fc9ee8d1f014d8e9499dd948a75f131",
              "version_major": 2,
              "version_minor": 0
            },
            "text/plain": [
              "HBox(children=(IntProgress(value=0, bar_style='success'), Label(value='')))"
            ]
          },
          "metadata": {},
          "output_type": "display_data"
        },
        {
          "name": "stdout",
          "output_type": "stream",
          "text": [
            "+-----------+-------------+----------+----------+-----+\n",
            "|provider_id|provider_name|specialty |city      |state|\n",
            "+-----------+-------------+----------+----------+-----+\n",
            "|2004       |Dr. Davis    |Cardiology|Louisville|KY   |\n",
            "+-----------+-------------+----------+----------+-----+\n",
            "\n"
          ]
        }
      ],
      "source": [
        "# Test Provider Lookup Function\n",
        "print(\"🧪 Testing lookup_providers function...\")\n",
        "test_result = spark.sql(f\"SELECT * FROM {CATALOG}.{SCHEMA}.lookup_providers('Cardiology') LIMIT 3\")\n",
        "test_result.show(truncate=False)\n"
      ]
    },
    {
      "cell_type": "markdown",
      "metadata": {},
      "source": [
        "### Summary\n"
      ]
    },
    {
      "cell_type": "code",
      "execution_count": 14,
      "metadata": {},
      "outputs": [
        {
          "name": "stdout",
          "output_type": "stream",
          "text": [
            "🏥 Healthcare Payor Unity Catalog Tools Created Successfully!\n",
            "============================================================\n",
            "✅ lookup_member - Member information from my_catalog.payer_silver.members\n",
            "✅ lookup_claims - Member claims from my_catalog.payer_silver.claims\n",
            "✅ lookup_providers - Provider network from my_catalog.payer_silver.providers\n",
            "============================================================\n",
            "🎉 All healthcare payor tools are ready for agent integration!\n",
            "📋 Using existing tables from my_catalog.payer_silver\n"
          ]
        }
      ],
      "source": [
        "# Display Summary\n",
        "print(\"🏥 Healthcare Payor Unity Catalog Tools Created Successfully!\")\n",
        "print(\"=\" * 60)\n",
        "print(f\"✅ lookup_member - Member information from {CATALOG}.{SCHEMA}.members\")\n",
        "print(f\"✅ lookup_claims - Member claims from {CATALOG}.{SCHEMA}.claims\") \n",
        "print(f\"✅ lookup_providers - Provider network from {CATALOG}.{SCHEMA}.providers\")\n",
        "print(\"=\" * 60)\n",
        "print(\"🎉 All healthcare payor tools are ready for agent integration!\")\n",
        "print(f\"📋 Using existing tables from {CATALOG}.{SCHEMA}\")\n"
      ]
    }
  ],
  "metadata": {
    "kernelspec": {
      "display_name": "azure_databricks",
      "language": "python",
      "name": "python3"
    },
    "language_info": {
      "name": "python",
      "version": "3.12.0"
    }
  },
  "nbformat": 4,
  "nbformat_minor": 2
}
